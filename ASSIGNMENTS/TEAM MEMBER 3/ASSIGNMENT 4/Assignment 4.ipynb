{
 "cells": [
  {
   "cell_type": "markdown",
   "metadata": {
    "id": "-G6fTl3wAc3T"
   },
   "source": [
    "Creating two lists and joining them"
   ]
  },
  {
   "cell_type": "code",
   "execution_count": 3,
   "metadata": {
    "colab": {
     "base_uri": "https://localhost:8080/"
    },
    "executionInfo": {
     "elapsed": 429,
     "status": "ok",
     "timestamp": 1698307385833,
     "user": {
      "displayName": "Sharafath Zulfiah",
      "userId": "10266133192533402321"
     },
     "user_tz": -330
    },
    "id": "aB32rB7_Aff6",
    "outputId": "6428de03-adfb-4de5-f143-aeca063661f2"
   },
   "outputs": [
    {
     "name": "stdout",
     "output_type": "stream",
     "text": [
      "Joined List: [1, 3, 5, 7, 9, 2, 4, 6, 8, 10]\n"
     ]
    }
   ],
   "source": [
    "# Task 1\n",
    "list1 = [1, 3, 5, 7, 9]\n",
    "list2 = [2, 4, 6, 8, 10]\n",
    "joined_list = list1 + list2\n",
    "print(\"Joined List:\", joined_list)\n"
   ]
  },
  {
   "cell_type": "markdown",
   "metadata": {
    "id": "LTkgYpdPAofo"
   },
   "source": [
    "Finding the even numbers in a list using if statements"
   ]
  },
  {
   "cell_type": "code",
   "execution_count": 4,
   "metadata": {
    "colab": {
     "base_uri": "https://localhost:8080/"
    },
    "executionInfo": {
     "elapsed": 1080,
     "status": "ok",
     "timestamp": 1698307428330,
     "user": {
      "displayName": "Sharafath Zulfiah",
      "userId": "10266133192533402321"
     },
     "user_tz": -330
    },
    "id": "SDLjcPwnAp87",
    "outputId": "e01823a3-ee69-4208-829a-91c98f5d2903"
   },
   "outputs": [
    {
     "name": "stdout",
     "output_type": "stream",
     "text": [
      "Even Numbers: [2, 4, 6, 8, 10]\n"
     ]
    }
   ],
   "source": [
    "# Task 2\n",
    "numbers = [1, 2, 3, 4, 5, 6, 7, 8, 9, 10]\n",
    "even_numbers = [num for num in numbers if num % 2 == 0]\n",
    "print(\"Even Numbers:\", even_numbers)\n"
   ]
  },
  {
   "cell_type": "markdown",
   "metadata": {
    "id": "LJNOKgGYAwdG"
   },
   "source": [
    " Creating a dictionary with 3 keys and 2 values for each key"
   ]
  },
  {
   "cell_type": "code",
   "execution_count": 5,
   "metadata": {
    "colab": {
     "base_uri": "https://localhost:8080/"
    },
    "executionInfo": {
     "elapsed": 14,
     "status": "ok",
     "timestamp": 1698307464129,
     "user": {
      "displayName": "Sharafath Zulfiah",
      "userId": "10266133192533402321"
     },
     "user_tz": -330
    },
    "id": "Bbz1POF1Axxg",
    "outputId": "6eba58ff-7985-42c2-8844-5ce9e5640f27"
   },
   "outputs": [
    {
     "name": "stdout",
     "output_type": "stream",
     "text": [
      "Dictionary: {'key1': [1, 2], 'key2': [3, 4], 'key3': [5, 6]}\n"
     ]
    }
   ],
   "source": [
    "# Task 3\n",
    "my_dict = {'key1': [1, 2], 'key2': [3, 4], 'key3': [5, 6]}\n",
    "print(\"Dictionary:\", my_dict)\n"
   ]
  },
  {
   "cell_type": "markdown",
   "metadata": {
    "id": "atNgOPVQA7GO"
   },
   "source": [
    "Creating a function to find odd numbers using an if statement"
   ]
  },
  {
   "cell_type": "code",
   "execution_count": 6,
   "metadata": {
    "colab": {
     "base_uri": "https://localhost:8080/"
    },
    "executionInfo": {
     "elapsed": 460,
     "status": "ok",
     "timestamp": 1698307511495,
     "user": {
      "displayName": "Sharafath Zulfiah",
      "userId": "10266133192533402321"
     },
     "user_tz": -330
    },
    "id": "_EvH_V8-A-Y_",
    "outputId": "d2b06a33-cb49-4f9c-c544-dcb858a98c59"
   },
   "outputs": [
    {
     "name": "stdout",
     "output_type": "stream",
     "text": [
      "Odd Numbers: [1, 3, 5, 7, 9]\n"
     ]
    }
   ],
   "source": [
    "# Task 4\n",
    "def find_odd_numbers(nums):\n",
    "    odd_numbers = [num for num in nums if num % 2 != 0]\n",
    "    return odd_numbers\n",
    "\n",
    "numbers_to_check = [1, 2, 3, 4, 5, 6, 7, 8, 9, 10]\n",
    "result = find_odd_numbers(numbers_to_check)\n",
    "print(\"Odd Numbers:\", result)\n"
   ]
  },
  {
   "cell_type": "markdown",
   "metadata": {
    "id": "rRQPm6bABHuS"
   },
   "source": [
    "Writing a function to sum all the numbers in a list"
   ]
  },
  {
   "cell_type": "code",
   "execution_count": 7,
   "metadata": {
    "colab": {
     "base_uri": "https://localhost:8080/"
    },
    "executionInfo": {
     "elapsed": 462,
     "status": "ok",
     "timestamp": 1698307553484,
     "user": {
      "displayName": "Sharafath Zulfiah",
      "userId": "10266133192533402321"
     },
     "user_tz": -330
    },
    "id": "G_nD6V7gBI9g",
    "outputId": "b998fd11-9af8-4028-837f-ac8220bda3c8"
   },
   "outputs": [
    {
     "name": "stdout",
     "output_type": "stream",
     "text": [
      "Expected Output: 20\n"
     ]
    }
   ],
   "source": [
    "# Task 5\n",
    "def sum_list(numbers):\n",
    "    return sum(numbers)\n",
    "\n",
    "sample_list = [9, 1, 3, 0, 7]\n",
    "output = sum_list(sample_list)\n",
    "print(\"Expected Output:\", output)\n"
   ]
  }
 ],
 "metadata": {
  "colab": {
   "authorship_tag": "ABX9TyPXmO3dm89PfcqLE0QIxsZl",
   "provenance": []
  },
  "kernelspec": {
   "display_name": "Python 3 (ipykernel)",
   "language": "python",
   "name": "python3"
  },
  "language_info": {
   "codemirror_mode": {
    "name": "ipython",
    "version": 3
   },
   "file_extension": ".py",
   "mimetype": "text/x-python",
   "name": "python",
   "nbconvert_exporter": "python",
   "pygments_lexer": "ipython3",
   "version": "3.10.9"
  }
 },
 "nbformat": 4,
 "nbformat_minor": 1
}
