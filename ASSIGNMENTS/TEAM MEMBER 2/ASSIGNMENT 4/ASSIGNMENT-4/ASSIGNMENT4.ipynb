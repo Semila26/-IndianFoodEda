{
  "nbformat": 4,
  "nbformat_minor": 0,
  "metadata": {
    "colab": {
      "provenance": []
    },
    "kernelspec": {
      "name": "python3",
      "display_name": "Python 3"
    },
    "language_info": {
      "name": "python"
    }
  },
  "cells": [
    {
      "cell_type": "code",
      "execution_count": null,
      "metadata": {
        "id": "20sX67YTBaAy"
      },
      "outputs": [],
      "source": []
    },
    {
      "cell_type": "markdown",
      "source": [
        "Create two lists and join them"
      ],
      "metadata": {
        "id": "qqo5wkg7Bh69"
      }
    },
    {
      "cell_type": "code",
      "source": [
        "list1 = [1, 2, 3]\n",
        "list2 = [4, 5, 6]\n",
        "joined_list = list1 + list2\n",
        "print(joined_list)\n"
      ],
      "metadata": {
        "colab": {
          "base_uri": "https://localhost:8080/"
        },
        "id": "ebEjLylFCmjS",
        "outputId": "e20dcdf1-6a90-4fd2-a91d-8158b5ab791e"
      },
      "execution_count": 1,
      "outputs": [
        {
          "output_type": "stream",
          "name": "stdout",
          "text": [
            "[1, 2, 3, 4, 5, 6]\n"
          ]
        }
      ]
    },
    {
      "cell_type": "markdown",
      "source": [
        " Find even numbers with an if statement"
      ],
      "metadata": {
        "id": "41C6vn64DPVG"
      }
    },
    {
      "cell_type": "code",
      "source": [
        "numbers = [1, 2, 3, 4, 5, 6, 7, 8, 9]\n",
        "even_numbers = []\n",
        "for number in numbers:\n",
        "    if number % 2 == 0:\n",
        "        even_numbers.append(number)\n",
        "print(even_numbers)\n"
      ],
      "metadata": {
        "colab": {
          "base_uri": "https://localhost:8080/"
        },
        "id": "bOrlhgtdDQjx",
        "outputId": "533b1eb1-a012-43d7-b55a-7f4ac57922be"
      },
      "execution_count": 2,
      "outputs": [
        {
          "output_type": "stream",
          "name": "stdout",
          "text": [
            "[2, 4, 6, 8]\n"
          ]
        }
      ]
    },
    {
      "cell_type": "markdown",
      "source": [
        "Create a dictionary"
      ],
      "metadata": {
        "id": "ZCsxOkgUDUE1"
      }
    },
    {
      "cell_type": "code",
      "source": [
        "my_dict = {\n",
        "    'key1': ['value1', 'value2'],\n",
        "    'key2': ['value3', 'value4'],\n",
        "    'key3': ['value5', 'value6']\n",
        "}\n"
      ],
      "metadata": {
        "id": "S_fnyKsADW9I"
      },
      "execution_count": 3,
      "outputs": []
    },
    {
      "cell_type": "markdown",
      "source": [
        "Create a function to find odd numbers with an if statement"
      ],
      "metadata": {
        "id": "657qTCBBDaKg"
      }
    },
    {
      "cell_type": "code",
      "source": [
        "def find_odd_numbers(numbers):\n",
        "    odd_numbers = []\n",
        "    for number in numbers:\n",
        "        if number % 2 != 0:\n",
        "            odd_numbers.append(number)\n",
        "    return odd_numbers\n",
        "\n",
        "numbers = [1, 2, 3, 4, 5, 6, 7, 8, 9]\n",
        "odd_numbers = find_odd_numbers(numbers)\n",
        "print(odd_numbers)\n"
      ],
      "metadata": {
        "colab": {
          "base_uri": "https://localhost:8080/"
        },
        "id": "fxr7_tpgDdKi",
        "outputId": "c0da4cdd-2e5a-4d25-c5ac-864cd130e6cb"
      },
      "execution_count": 4,
      "outputs": [
        {
          "output_type": "stream",
          "name": "stdout",
          "text": [
            "[1, 3, 5, 7, 9]\n"
          ]
        }
      ]
    },
    {
      "cell_type": "markdown",
      "source": [
        "Create a function to sum all numbers in a list"
      ],
      "metadata": {
        "id": "ktBDKUKIDsqW"
      }
    },
    {
      "cell_type": "code",
      "source": [
        "def sum_numbers(numbers):\n",
        "    total = sum(numbers)\n",
        "    return total\n",
        "\n",
        "sample_list = [8, 2, 3, 0, 7]\n",
        "result = sum_numbers(sample_list)\n",
        "print(result)\n"
      ],
      "metadata": {
        "colab": {
          "base_uri": "https://localhost:8080/"
        },
        "id": "8WEc7EwdDviG",
        "outputId": "e66b7ff2-f7c7-4de8-fe35-5fd5b6ad183b"
      },
      "execution_count": 5,
      "outputs": [
        {
          "output_type": "stream",
          "name": "stdout",
          "text": [
            "20\n"
          ]
        }
      ]
    }
  ]
}