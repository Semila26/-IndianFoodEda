{
 "cells": [
  {
   "cell_type": "code",
   "execution_count": 34,
   "id": "5a5c4b68",
   "metadata": {},
   "outputs": [
    {
     "name": "stdout",
     "output_type": "stream",
     "text": [
      "Joined List: [4, 3, 1, 5, 2, 0, 7, -2]\n",
      "Even Numbers: [4, 2, 0, -2]\n",
      "My Dictionary: {'num': ['odd', 'even'], 'even': [2, 4], 'odd': [3, 5]}\n",
      "Odd Numbers: [3, 1, 5, 7]\n",
      "Sum of Numbers : 20\n"
     ]
    }
   ],
   "source": [
    "# Create two lists \n",
    "list1 = [4, 3, 1, 5]\n",
    "list2 = [2, 0, 7, -2]\n",
    "\n",
    "#Join two lists\n",
    "list = list1 + list2\n",
    "\n",
    "#Find even numbers in list\n",
    "even_num = [x for x in list if x % 2 == 0]\n",
    "\n",
    "#Create a dictionary \n",
    "dict = {\n",
    "    'num': [\"odd\", \"even\"],\n",
    "    'even': [2, 4],\n",
    "    'odd': [3, 5]\n",
    "}\n",
    "\n",
    "\n",
    "#Create a function to find odd numbers\n",
    "def find_odd_numbers(list):\n",
    "    odd_num = [x for x in list if x % 2 != 0]\n",
    "    return odd_num\n",
    "numbers = list\n",
    "odd_num = find_odd_numbers(numbers)\n",
    "\n",
    "#sum all the numbers in a list\n",
    "def sum_list(numbers):\n",
    "    total = sum(numbers)\n",
    "    return total\n",
    "sum_of_numbers = sum_list(list)\n",
    "\n",
    "#Print the results\n",
    "print(\"Joined List:\", list)\n",
    "print(\"Even Numbers:\", even_num)\n",
    "print(\"My Dictionary:\", dict)\n",
    "print(\"Odd Numbers:\", odd_num)\n",
    "print(\"Sum of Numbers :\",sum_of_numbers)"
   ]
  },
  {
   "cell_type": "code",
   "execution_count": null,
   "id": "9da80d32",
   "metadata": {},
   "outputs": [],
   "source": []
  }
 ],
 "metadata": {
  "kernelspec": {
   "display_name": "Python 3 (ipykernel)",
   "language": "python",
   "name": "python3"
  },
  "language_info": {
   "codemirror_mode": {
    "name": "ipython",
    "version": 3
   },
   "file_extension": ".py",
   "mimetype": "text/x-python",
   "name": "python",
   "nbconvert_exporter": "python",
   "pygments_lexer": "ipython3",
   "version": "3.11.3"
  }
 },
 "nbformat": 4,
 "nbformat_minor": 5
}
